{
 "cells": [
  {
   "cell_type": "markdown",
   "metadata": {},
   "source": [
    "# Practical Session 7: Planning in certain and uncertain environments\n",
    "\n",
    "## Redes de Sensores y Sistemas Autónomos \n",
    "### Grado en Ingeniería de las Tecnologías de Telecomunicación\n",
    "### Universidad de Sevilla\n",
    "\n",
    "David Alejo Teissière"
   ]
  },
  {
   "cell_type": "markdown",
   "metadata": {},
   "source": [
    "## Introduction\n",
    "\n",
    "In this practical session we will develop two different path planners. First, we will obtain a continuous, collision-free path connecting two distant points: the current pose of our Turtlebot and the goal destination. In this first part, we will assume to have perfect knowledge of the environment between the starting point to the goal point.\n",
    "\n",
    "Then, in the second part, we will make our Turtlebot to be able to explore an unknown area. To this end, we will need a SLAM algorithm (Simultaneous Localization and Mapping) and we will develop a Frontier-based exploration method that will automatically generate exploration targets.\n",
    "\n",
    "To sum up, in this lesson we will learn to:\n",
    "\n",
    "* Obtain a collision-free path in a known environment\n",
    "* Configure a SLAM algorithm to generate in real-time a map of the environment.\n",
    "* Autonomously explore an area with frontier-based exploration.\n",
    "\n",
    "Let's go!"
   ]
  },
  {
   "cell_type": "markdown",
   "metadata": {},
   "source": [
    "## Introduction to path planning\n",
    "\n",
    "In this section, we will assume that we have perfect knowledge of the environment, by means of a map which is specified as an Occupancy Grid (see Fig. 1). The path planning algorithm will explore the map and will find a path that connects the starting and goal points. Therefore, the block diagram of our path planning stack, including path tracking, is depicted in Fig. 2. It also includes the exploration part that is explained at the second part of the practical session.\n",
    "\n",
    "To launch the path planning part, we have developed the `planning.launch` file. See its contents. It basically starts the following three nodes (besides including the modules developed so far):\n",
    "\n",
    "\n",
    "<figure style=\"text-align:center\">\n",
    "  <img src=\"images/inflated_maze.png\" alt=\"\" width=700>\n",
    "  <figcaption>Fig. 1: Geometry map of the Turlebot3 Maze environment.  </figcaption>\n",
    "</figure>\n",
    "\n",
    "<figure style=\"text-align:center\">\n",
    "  <img src=\"images/navigation_diagram.png\" alt=\"\" width=700>\n",
    "  <figcaption>Fig. 2: Block diagram of our system including path planning.  </figcaption>\n",
    "</figure>\n",
    "\n",
    "### Map server node\n",
    "\n",
    "The map server node publishes the map information of the environment, which is stored as an image file. It needs the image and some metadata information in YAML format.\n",
    "\n",
    "Each pixel of the image is a number between 0 and 100, which indicates:\n",
    "\n",
    "* Obstacle-free pixel: if the value is less than a threshold (pixel < free_thresh)\n",
    "* Obstacle pixel: each pixel that exceeds a different threshold (pixel > occupied_thres)\n",
    "* Unknown: Each pixel exceeding 100 or which is not obstacle-free or obstacle.\n",
    "\n",
    "For more information, please refer to the ROS wiki: [Link](http://wiki.ros.org/map_server)"
   ]
  },
  {
   "cell_type": "code",
   "execution_count": null,
   "metadata": {
    "vscode": {
     "languageId": "yaml"
    }
   },
   "outputs": [],
   "source": [
    "###### Example of map metadata ##########\n",
    "image: testmap.png\n",
    "resolution: 0.1\n",
    "origin: [0.0, 0.0, 0.0]\n",
    "occupied_thresh: 0.65\n",
    "free_thresh: 0.196\n",
    "negate: 0"
   ]
  },
  {
   "cell_type": "markdown",
   "metadata": {},
   "source": [
    "### Navigation costmap with Costmap2D package\n",
    "\n",
    "We have to process the map of the environment to be able to distinguish between safe points or collision points for our robot.\n",
    "\n",
    "To this end, this node takes as its input the map of then environment, and then generates a costmap which is calculated by taking into account the geometry of the robot as specified in Fig. 3. \n",
    "\n",
    "<figure style=\"text-align:center\">\n",
    "  <img src=\"images/costmapspec.png\" alt=\"\" >\n",
    "  <figcaption>Fig. 3: Inflation of obstacles according to the geometry of the robot. Note the different radius of the robot: inscribed and circumscribed.  </figcaption>\n",
    "</figure>\n",
    "\n",
    "If we apply the inflation of the map of Fig. 2 taking into account the geometry of the Turtlebot burger (radius of 15-20 cm) we obtain the costmap of Fig. 4.\n",
    "\n",
    "\n",
    "<figure style=\"text-align:center\">\n",
    "  <img src=\"images/costmap.png\" alt=\"\" width=700>\n",
    "  <figcaption>Fig. 4: Inflated maze costmap.  </figcaption>\n",
    "</figure>\n",
    "\n",
    "\n",
    "\n"
   ]
  },
  {
   "cell_type": "markdown",
   "metadata": {},
   "source": [
    "### Planning node: Djikstra Algorithm\n",
    "\n",
    "Djikstra's algorithm is one type of forward search algorithm that propagates evenly in the space until the goal node is reached.\n",
    "\n",
    "It considers the costs associated to get from one node to its neighbor nodes. It is able to get the optimal paths assuming the costs to be nonnegative.\n",
    "\n",
    "Our planning node gets the costmap of the environment and then generates a collision-free path connecting the starting and goal nodes, as shown in Fig. 5.\n",
    "\n",
    "<figure style=\"text-align:center\">\n",
    "  <img src=\"images/djikstra.png\" alt=\"\" width=700>\n",
    "  <figcaption>Fig. 5: Djistra algorithm.  </figcaption>\n",
    "</figure>\n"
   ]
  },
  {
   "cell_type": "code",
   "execution_count": null,
   "metadata": {
    "vscode": {
     "languageId": "yaml"
    }
   },
   "outputs": [],
   "source": [
    "__Exercise_1__\n",
    "\n",
    "Try to run the navigation experiment following the instructions of the professor. To this end you should:\n",
    "\n",
    "1. In the practica_6.launch file, remap the PoseStamped subscriber to another topic (instead of move_base_simple/goal). \n",
    "2. Remove the visualizer node from practica_6.launch.\n",
    "3. Launch the practica7a.launch file. \n",
    "4. Select a destination in the RViz file.\n",
    "5. See if the path is generated \n",
    "6. Check if the Turtlebot follows the generated path\n"
   ]
  }
 ],
 "metadata": {
  "language_info": {
   "name": "python"
  }
 },
 "nbformat": 4,
 "nbformat_minor": 2
}
