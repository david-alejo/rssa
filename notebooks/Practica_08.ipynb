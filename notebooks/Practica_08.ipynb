{
 "cells": [
  {
   "cell_type": "markdown",
   "metadata": {},
   "source": [
    "# Practical Session 8: Working with real robots. Magabot and ROSBot\n",
    "\n",
    "## Redes de Sensores y Sistemas Autónomos \n",
    "### Grado en Ingeniería de las Tecnologías de Telecomunicación\n",
    "### Universidad de Sevilla\n",
    "\n",
    "David Alejo Teissière"
   ]
  },
  {
   "cell_type": "markdown",
   "metadata": {},
   "source": [
    "## Introduction\n",
    "\n",
    "In this practical will try to configure two robots and program them with the code developed so far.\n",
    "\n",
    "To sum up, in this lesson we will learn to either:\n",
    "\n",
    "* Configure a Docker to get USB support and be able to control a laptop on wheels type of robot: Magabot\n",
    "* Setup our development in a robot with an onboard computer (such as the ROSBot) and be able to display the generated data in our laptops.\n",
    "\n",
    "Let's go!"
   ]
  },
  {
   "cell_type": "markdown",
   "metadata": {},
   "source": [
    "## Setting up the Magabot\n",
    "\n",
    "The magabot is a laptop on wheels type of robot. Therefore, our laptop will be necessary for it in order to work.\n",
    "\n",
    "In particular, our Magabot has two Arduinos. One handles the IMU and the other handles the DC motors and encoders.\n",
    "\n",
    "In addition, we would need an extra USB connection for the LiDAR sensor, the RPLidar.\n",
    "\n",
    "### Sharing the USB connections\n",
    "\n",
    "This step is straightforward if we use a Linux laptop, as we run the Docker container in priviledged mode, and therefore all the USB connections are shared by default.\n",
    "\n",
    "However, if our host machine runs Windows, we can do it by setting up the `usbipd` tool, which shares the USB connection through IP. Please follow the instructions in:\n",
    "\n",
    "[https://learn.microsoft.com/es-es/windows/wsl/connect-usb](https://learn.microsoft.com/es-es/windows/wsl/connect-usb)\n",
    "\n",
    "Basically we will use the usbipd in two ways. Make sure that Docker Desktop and Xming are running.\n",
    "\n",
    "1. First we will bind the desired ports (in priviledged mode). You have to do it once for each port (we have three in total).\n",
    "\n",
    "``` \n",
    "(powershell admin)> usbipd bind --busid=7-2\n",
    "```\n",
    "\n",
    "2. Then, we will attach them to our Docker (make sure that )\n",
    "\n",
    "```\n",
    "(powershell) > usbipd attach --wsl --busid=7-2\n",
    "```\n",
    "\n",
    "If everything is OK, you should see something similar to Fig. 1.\n",
    "\n",
    "<figure style=\"text-align:center\">\n",
    "  <img src=\"images/usbipd_list.png\" alt=\"\" width=700>\n",
    "  <figcaption>Fig. 1: Output of the USBIPD command with the expected ports.  </figcaption>\n",
    "</figure>\n",
    "\n",
    "\n",
    "### Installing the necessary files in our ROS workspace\n",
    "\n",
    "We would need to get the magabot drivers, which are available at: [GitHub](https://github.com/robotics-upo/magabot-idmind-ros/)\n",
    "\n",
    "Download the repository to your catkin_ws, and build it.\n",
    "\n",
    "When the Magabot is correctly built in your environment, you can start the robot. To do so, please execute this command:\n",
    "\n",
    "```\n",
    "> roslaunch magabot magabot.launch magabot_port:=/dev/ttyACM0 inertial_port:=/dev/ttyACM1 yaw:=3.14\n",
    "```\n",
    "\n",
    "(please not that you may need to switch between ports to get Magabot working)\n",
    "\n",
    "The launch files loads the driver of the robot and the LiDAR. Besides, it starts the keyboard teleoperation tool that you can test to check if the system is working.\n",
    "\n",
    "\n",
    "## Configuring the ROSBot\n",
    "\n",
    "\n",
    "Alternatively, we can use the ROSbot platform, which has an onboard Raspberry Pi 4 with ROS noetic.\n",
    "\n",
    "Therefore, to start the robot we have to log in in the onboard computer and use the starting script.\n",
    "\n",
    "```\n",
    " (raspberry pi bash) > start_rosbot.sh\n",
    "```\n",
    "\n"
   ]
  },
  {
   "cell_type": "markdown",
   "metadata": {
    "vscode": {
     "languageId": "yaml"
    }
   },
   "source": [
    "__Exercise_1__\n",
    "\n",
    "For Magabot: install the drivers and try to get the robot working.\n",
    "\n",
    "For ROSBot: turn on the robot, start its drivers and try to start a joystick teleoperation. To this end, you would need two nodes: [`joy_node`](https://wiki.ros.org/joy), which generates the /joy topic that indicates which buttons and joystick are commanded. Then, the joy teleoperation translates this information to a `cmd_vel` topic.\n",
    "\n"
   ]
  },
  {
   "cell_type": "markdown",
   "metadata": {},
   "source": [
    "__Exercise_2__\n",
    "\n",
    "Generate a map of the environment with the instructions of the professor and use it to test your autonomous navigation system. To this end, we will use the [gmapping](http://wiki.ros.org/gmapping) tool, the RViz visualizer to check the generated map (in the /map topic).\n",
    "\n",
    "Besides, once we have a good map, we will also need the `map_saver` tool of the [`map_server`](http://wiki.ros.org/map_server) ROS package to store the generated map in a file.\n",
    "\n",
    "Note: in the ROSbot, we can check the map in our laptop, but we have to configure the network system so that we are able to see the topics generated in the ROSBot, to this end we need a Linux laptop and configure the network as indicated in [ROSWiki](https://wiki.ros.org/ROS/NetworkSetup)\n",
    "\n",
    "\n",
    "__Exercise_3__\n",
    "\n",
    "Once we have a map of the environment, we can configure our planners to use it and be able to autonomously navigate in the environment."
   ]
  }
 ],
 "metadata": {
  "language_info": {
   "name": "python"
  }
 },
 "nbformat": 4,
 "nbformat_minor": 2
}
