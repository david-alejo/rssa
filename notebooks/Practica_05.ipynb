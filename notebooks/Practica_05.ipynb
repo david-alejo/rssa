{
 "cells": [
  {
   "cell_type": "markdown",
   "id": "e2fe7b14",
   "metadata": {},
   "source": [
    "# Practical Session 5: Path Tracking\n",
    "\n",
    "## Redes de Sensores y Sistemas Autónomos \n",
    "### Grado en Ingeniería de las Tecnologías de Telecomunicación\n",
    "### Universidad de Sevilla"
   ]
  },
  {
   "cell_type": "markdown",
   "id": "43cff7e9",
   "metadata": {},
   "source": [
    "## Objectives\n",
    "\n",
    "In this practical session, we will learn the basics of path following.\n",
    "\n",
    "In this particular, we will use the Turtlebot simulator so that it can perform two different tasks in a obstacle-free world (empty_world).\n",
    "\n",
    "+ We will learn to use the basic utilities related to the handling of reference frames in ROS, which is carried out by the `tf`package.\n",
    "+ We will implement a subscriber to a Goal, which has type geometry_msgs/PoseStamped and make the robot go to the desired location.\n",
    "+ We will implement a new action server to follow a Path, which consists on a quasi-continuous sequence of Poses.\n",
    "+ Optionally we will introduce the concept of Action, which is like the client/server paradigm, but for longer actions that can include feedback information, such as path tracking."
   ]
  },
  {
   "cell_type": "markdown",
   "id": "af074dd3",
   "metadata": {},
   "source": [
    "## Tf Listener basics and goal subscriber\n",
    "\n",
    "Basically, our goal is to make our beloved Turtlebot go to a destination, which is given in a global coordinate frame, such as the `Odometry` frame, or the `Map` frame.\n",
    "\n",
    "To this end, we will implement a node that receives (subscribes to) the goal. The basic idea here is to transform the pose in global coordinates (i. e. in the odometry or map coordinate frame) to the local frame (base_link frame). The pose in the local coordinate frame can be considered as the position error, or the position vector from the robot to the destination.\n",
    "\n",
    "To be able to transform the goal pose to local coordinates, we will need a class that is provided in the `tf` package, the TransformListener class. It implements a method that listens to the available transform in ROS and it provides us with some methods to transform between coordinate frames such as `transformPose` and `transformPoint`. For more information, please refer to the tutorial: http://wiki.ros.org/tf/Tutorials/Writing%20a%20tf%20listener%20%28Python%29\n",
    "\n",
    "\n",
    "__Exercise 1__\n",
    "\n",
    "+ Create the `turtlebot_controller`package, which depends on the `tf, rospy, roscpp, geometry_msgs, navigation_msgs, actionlib, message_generation, message_runtime` packages.\n",
    "+ Get the skeleton of the `turtlebot_controller` node and copy it to the `scripts` folder of the new package. It implements the `TurtlebotController` class. \n",
    "+ Add a subscriber on this node the `move_base_simple/goal` topic with type `geometry_msgs/PoseStamped`, which is linked to the goalRecieved callback method.\n",
    "+ In the callback method, the recieved goal is copied to a goal attribute of the TurtlebotController class and a message is shown for logging purposes.\n",
    "+ In the `control` method, which is periodically called, you should transform the pose from the original reference frame specified in the Header to a the base frame, which is specified in an attribute of the class `base_frame`. By default, this frame should be `base_footprint`.\n",
    "+ The `base_footprint` attribute should be configurable by means of the ROS parameter server, in a private ROS parameter of the node named: `base_frame_id`.\n"
   ]
  },
  {
   "cell_type": "markdown",
   "id": "06e4836d",
   "metadata": {},
   "source": [
    "## Basic goal controller for turtlebot\n",
    "\n",
    "In this section, we will implement a simple control loop we will make the position error go below a given threshold. In particular, we will make the robot point to the destination (that is make the angular error go to zero), and then the velocity can be a function of the angular error and the remaining distance to the destination. \n",
    "\n",
    "#### Velocity as a function of the time and distance \n",
    "\n",
    "Usually, the commanded velocity to the turtlebot should follow a trapezoidal profile in which we distinguish three different behaviours:\n",
    "\n",
    "+ Acceleration zone: in the first stage, we gradually increment the speed of the robot until it reaches its cruise speed.\n",
    "+ Cruise zone: in this section, the cruise speed is maintained. This maximum speed should be \n",
    "+ Deceleration zone: last, we gradually decrement the speed until the distance is below a given threshold `d_thres`. This parameter should be stored in an attribute of the class and should be retrieved from the parameter server.\n",
    "\n",
    "<figure style=\"text-align:center\">\n",
    "  <img src=\"images/trapezoidal.png\" alt=\"\" width=700>\n",
    "  <figcaption>Fig. 2: Examples of Velocity profiles. (a) Trapezoidal (b) 3rd order S-Curve Profile. Source: M. Akdag, H. Sen: \"S-curve Motion Profile Design for Vibration Control of Single Link Flexible Manipulator\". DEÜFMD 23(68), 661-676 </figcaption>\n",
    "</figure>\n",
    "\n",
    "#### Velocity as a function of the angular error.\n",
    "\n",
    "The idea is that if the angular error is too large, the robot should reduce its velocity. To this end we can use different multipliers (0.9, 0.7, 0.5...) when the error exceeds some thresholds. \n",
    "\n",
    "__Exercise_2__\n",
    "\n",
    "Implement a basic controller in which, if a new goal is received and we have not reached it makes the Turtlebot go to the desired destination.\n",
    "\n",
    "To this end, you should add a function to calculate the angular and linear velocity commands that will be sent to the robot in the `control` method of the `TurtlebotController` class.\n"
   ]
  },
  {
   "cell_type": "markdown",
   "id": "9c4fdb25",
   "metadata": {
    "vscode": {
     "languageId": "plaintext"
    }
   },
   "source": [
    "## Path Tracking exercise\n",
    "\n",
    "Finally, it is a good idea to provide the robot not with a mere goal destination, but also with a safe path to reach it. To this end, we can use the `Path` message, which is defined in the `navigation_msgs` package. \n",
    "\n",
    "There are plenty of methods that can be used for path following. As a first approximation, the students are encouraged to calculate the closest point from the robot to the path (see point C in Fig. 3). Then, the robot should be commanded to reach not that point but another point farther away (G). The distance between C and G is usually called lookahead (L). At each new iteration in our control module, the point to be reached is to be calculated again, and then we use the same method that we implemented in Exercise 2. \n",
    "\n",
    "<figure style=\"text-align:center\">\n",
    "  <img src=\"images/path_tracking.png\" alt=\"\" width=400>\n",
    "  <figcaption>Fig. 3: Path tracking. C is the closest point from the Path to the robot. L is the lookahead distance. G is the current goal point.</figcaption>\n",
    "</figure>\n",
    "\n",
    "__Exercise_3__\n",
    "\n",
    "Add a Path subscriber in your `turtlebot_controller` node and then implement a Callback function to the `path` topic of type `navigation_msgs/Path`. You should reflect in the class the current path that is being tracked and that a path is being executed.\n",
    "\n",
    "Implement the path tracking algorithm, which in each iteration obtains the current goal point by the strategy proposed in this section, or a similar one."
   ]
  },
  {
   "cell_type": "markdown",
   "id": "648566d8",
   "metadata": {},
   "source": [
    "## Optional part: Actionlib package. Managing complex actions in ROS.\n",
    "\n",
    "In any large ROS based system, there are cases when someone would like to send a request to a node to perform some task, and also receive a reply to the request. This can currently be achieved via ROS services.\n",
    "\n",
    "In some cases, however, if the service takes a long time to execute, the user might want the ability to cancel the request during execution or get periodic feedback about how the request is progressing. The actionlib package provides tools to create servers that execute long-running goals that can be preempted. It also provides a client interface in order to send requests to the server. \n",
    "\n",
    "An action is composed of:\n",
    "\n",
    "+ A goal to be reached, in our case a path. \n",
    "+ The result of the action, which in our case can be a mere boolean indicating whether the goal has been successfully reached or not. We might want to include a string so that the causes of error are given to the user.\n",
    "+ Finally, there is a feedback message which the server should periodically send to the client. It indicates the current progress of the task. In our case, we can provide the user with the id number of the current goal that is being tracked and the distance from the robot to the current goal. \n",
    "\n",
    "This gives us the following action file, which should be included in the `action` folder of your package:"
   ]
  },
  {
   "cell_type": "raw",
   "id": "a72b25c4",
   "metadata": {
    "vscode": {
     "languageId": "raw"
    }
   },
   "source": [
    "#### Path tracking action ####\n",
    "# Define the goal\n",
    "nav_msgs/Path path  # We want to follow a goal path\n",
    "---\n",
    "# Define the result\n",
    "bool success\n",
    "string error_msg    # Human readable error message if not succeded\n",
    "---\n",
    "# Define a feedback message\n",
    "int curr_goal_id    # ID of the goal that is being tracked\n",
    "float distance      # Distance to that goal"
   ]
  },
  {
   "cell_type": "markdown",
   "id": "c4000510",
   "metadata": {},
   "source": [
    "__Optional_exercise__\n",
    "\n",
    "Follow the ROS actionlib tutorials (http://wiki.ros.org/actionlib/Tutorials) and implement a basic Action Server that provides the Path tracking service.\n",
    "\n",
    "You can test the results against the provided basic path tracking client."
   ]
  },
  {
   "cell_type": "markdown",
   "id": "c54c884a",
   "metadata": {},
   "source": [
    "## Summary\n",
    "\n",
    "In this practical session, you should have learned the following:\n",
    "\n",
    "+ How to transform points from global to local coordinate frames.\n",
    "+ Implement a basic control law that allows the Turtlebot to reach a destination.\n",
    "+ Extend the control law to allow the Turtlebot to follow continuous paths.\n",
    "+ The concept of lookahead distance.\n",
    "+ Optionally: implement and use action servers."
   ]
  }
 ],
 "metadata": {
  "kernelspec": {
   "display_name": "Python 3 (ipykernel)",
   "language": "python",
   "name": "python3"
  },
  "language_info": {
   "codemirror_mode": {
    "name": "ipython",
    "version": 3
   },
   "file_extension": ".py",
   "mimetype": "text/x-python",
   "name": "python",
   "nbconvert_exporter": "python",
   "pygments_lexer": "ipython3",
   "version": "3.12.3"
  }
 },
 "nbformat": 4,
 "nbformat_minor": 5
}
