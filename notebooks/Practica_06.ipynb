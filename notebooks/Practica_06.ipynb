{
 "cells": [
  {
   "cell_type": "markdown",
   "metadata": {},
   "source": [
    "# Practical Session 6: Introduction to Sensing\n",
    "\n",
    "## Redes de Sensores y Sistemas Autónomos \n",
    "### Grado en Ingeniería de las Tecnologías de Telecomunicación\n",
    "### Universidad de Sevilla\n",
    "\n",
    "David Alejo"
   ]
  },
  {
   "cell_type": "markdown",
   "metadata": {},
   "source": [
    "## Part 1: Laserscan message and Emergency stop node\n",
    "\n",
    "To this point, our Turtlebot was a little bit sad and a feeling of loneliness embraced her as she explored an empty world. But this will change in this session. From now on, we will let our beloved Turtlebot explore a more interesting environment (see Fig. 1). \n",
    "\n",
    "__Exercise_1__\n",
    "\n",
    "Create a new ROS package name `collision_avoidance`, which will be the package to be developed in this class. It should depend on the packages: amcl geometry_msgs map_server nav_msgs roscpp rospy sensor_msgs std_msgs tf\n",
    "\n",
    "We will use a launch file to start all the necessary nodes for simulation, trajectory tracking, a visualization node and some localization nodes, which will be used to localize the turtlebot in the map. It can be found, with some additional resources in the `practica_6` folder of the rssa repository.\n",
    "\n",
    "Once you have created the new package and copied the additional files, please start the simulation by using the following command (note that the first time it can take its time, as it has to download some resources from the Internet)."
   ]
  },
  {
   "cell_type": "code",
   "execution_count": null,
   "metadata": {
    "vscode": {
     "languageId": "shellscript"
    }
   },
   "outputs": [],
   "source": [
    "(rssa Docker) > roslaunch collision_avoidance practica_6.launch"
   ]
  },
  {
   "cell_type": "markdown",
   "metadata": {},
   "source": [
    "<figure style=\"text-align:center\">\n",
    "  <img src=\"images/turtlebot_house.png\" alt=\"\" width=900>\n",
    "  <figcaption>Fig. 1: (a) Gazebo simulation of our turtlebot in a house environment. (b) Obtained LaserScan of the Turtlebot  </figcaption>\n",
    "</figure>\n",
    "\n",
    "If we want to avoid obstacles, we need to use a sensor to detect the obstacles. Particularly, our Turtlebot3 robot includes a 2D laser range finder: https://emanual.robotis.com/docs/en/platform/turtlebot3/appendix_lds_01/ . \n",
    "The Gazebo simulator is able to simulate this sensor among many others. Therefore, we can read the 2D laser scan readings, since our simulator is publishing this data. We can see with the tool rqt the publications. In this case we are interested in /scan topic [sensor_msgs/LaserScan]. Fig. 1 (b) represents one measurement of the sensor onboard the Turtlebot.\n",
    "\n",
    "From a 2D laser scan we obtain a set of distances (ranges) to the obstacles around the sensor. Each distance position in the vector of distances corresponds to a known angle, so we have a set of *polar coordinates* of the obstacles regarding the center of the sensor. \n",
    "\n",
    "Thus, we will subscribe to the topic /scan and receive this type of messages: sensor_msgs::LaserScan. The data structure is presented next:"
   ]
  },
  {
   "cell_type": "code",
   "execution_count": null,
   "metadata": {},
   "outputs": [],
   "source": [
    "################ Contents of the LaserScan.msg file of package sensor_msgs ####################################\n",
    "# Single scan from a planar laser range-finder\n",
    "#\n",
    "# If you have another ranging device with different behavior (e.g. a sonar\n",
    "# array), please find or create a different message, since applications\n",
    "# will make fairly laser-specific assumptions about this data\n",
    "\n",
    "Header header            # timestamp in the header is the acquisition time of \n",
    "                         # the first ray in the scan.\n",
    "                         #\n",
    "                         # in frame frame_id, angles are measured around \n",
    "                         # the positive Z axis (counterclockwise, if Z is up)\n",
    "                         # with zero angle being forward along the x axis\n",
    "                         \n",
    "float32 angle_min        # start angle of the scan [rad]\n",
    "float32 angle_max        # end angle of the scan [rad]\n",
    "float32 angle_increment  # angular distance between measurements [rad]\n",
    "\n",
    "float32 time_increment   # time between measurements [seconds] - if your scanner\n",
    "                         # is moving, this will be used in interpolating position\n",
    "                         # of 3d points\n",
    "float32 scan_time        # time between scans [seconds]\n",
    "\n",
    "float32 range_min        # minimum range value [m]\n",
    "float32 range_max        # maximum range value [m]\n",
    "\n",
    "float32[] ranges         # range data [m] (Note: values < range_min or > range_max should be discarded)\n",
    "float32[] intensities    # intensity data [device-specific units].  If your\n",
    "                         # device does not provide intensities, please leave\n",
    "                         # the array empty.\n"
   ]
  },
  {
   "cell_type": "markdown",
   "metadata": {},
   "source": [
    "In this class, you will develop two scripts in your `collision_avoidance` package. \n",
    "\n",
    "The idea of any node inside this package is that it susbscribes to the `v_pref` topic (preferred velocity, of type `geometry_msgs/Twist`), which usually comes from the path tracker node. Then, taking into account the obstacles sensed by the laser sensor, it generates a collision-free velocity as close as possible to the desired and publishes it in the `cmd_vel` topic (same type as `v_pref`), which is received and executed by the Turtlebot itself. This idea is depicted in Fig. 2.\n",
    "\n",
    "<figure style=\"text-align:center\">\n",
    "  <img src=\"images/diagram_collision_avoidance.png\" alt=\"\" width=600>\n",
    "  <figcaption>Fig. 2: (a) Proposed block diagram of the Collision Avoidance system. </figcaption>\n",
    "</figure>\n",
    "\n",
    "__Exercise_2__\n",
    "\n",
    "In a first approximation to the collision avoidance method, we will implement a basic node that subscribes the scan and stops the Turtlebot if an obstacle is detected with a distance minor than a given threshold `min_d`. This distance should be configurable by means of the parameter server.\n",
    "\n",
    "Thus, implement the node `emergency_stop.py` which subscribes to the `v_pref` and the `scan` topics. Then each time a scan is received it takes stop action if a threat is detected.\n",
    "\n",
    "The node should periodically publish in the `cmd_vel` topic the last `v_pref` received under normal circumstances or zero velocity if a threat has been detected.\n",
    "\n",
    "Add a new node tag in the `practica_6.launch` file that includes your newly created `emergency_stop.py` node and test that it works properly."
   ]
  },
  {
   "cell_type": "markdown",
   "metadata": {},
   "source": [
    "## Part 2: Implementation of a reactive Collision Avoidance method\n",
    "\n",
    "Please listen to the explanation of your professor in which he/she will introduce you the most used and effective reactive collision avoidance methods including:\n",
    "\n",
    "- The bug algorithm\n",
    "- Artificial potential fields\n",
    "- Methods based on velocity obstacles (such as the Optimal Reciprocal Collision Avoidance, ORCA)\n",
    "- Dinamic Windows Approach (DWA)\n",
    "\n",
    "\n",
    "__Exercise_3__\n",
    "\n",
    "Create a new node, name `collision_avoidance.py` that implements one of the collision avoidance methods seen on class. It should share the same interface as the node of Exercise 1. Add as many parameters of the node so that its behavior can be configured with the ROS parameter server.\n",
    "\n",
    "In the `practica_6.launch` launch file, replace the previously generated `emergency_stop.py` node with your `collision_avoidance.py` node. Test the algorithm under different circumstances."
   ]
  }
 ],
 "metadata": {
  "language_info": {
   "name": "python"
  }
 },
 "nbformat": 4,
 "nbformat_minor": 2
}
